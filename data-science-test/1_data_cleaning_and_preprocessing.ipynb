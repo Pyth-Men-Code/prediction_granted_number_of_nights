{
 "cells": [
  {
   "cell_type": "code",
   "execution_count": null,
   "metadata": {},
   "outputs": [],
   "source": [
    "import numpy as np\n",
    "import pandas as pd\n",
    "import seaborn as sns\n",
    "import matplotlib.pyplot as plt\n",
    "from sklearn.preprocessing import StandardScaler"
   ]
  },
  {
   "cell_type": "markdown",
   "metadata": {},
   "source": [
    "## Information about the test\n",
    "\n",
    "In this test, the `requests` datasets contains information about the requests made by group of individuals (or family) to the french emergency housing public service. A sample of the `requests` dataset corresponds to a unique request. The `individuals` datasets contains information about each individual for all requests.\n",
    "You can use the column `request_id` to link the two datasets.\n",
    "\n",
    "The goal is to predict the categorical variable `granted_number_of_nights` which represents the number of nights of emergency housing granted to a group. You can train your model on the `requests_train`, the predictions should be made for requests listed in the `requests_test` dataset. The competition score should also be computed on the `requests_test`.\n",
    "\n",
    "The evaluation metric is given by the `competition_scorer` defined above. It corresponds to a weighted log-loss with weights 1, 10, 100, or 1000 if the `granted_number_of_nights` takes the value 0, 1, 2, or 3 respectively. Thus beware that you will be penalized harder for classification mistakes made on the higher labels.\n",
    "\n",
    "The score for a random prediction is shown at the end of this notebook (~1.6), your trained models should at least reach a **score below 1** to be significantly better.\n",
    "\n",
    "Good luck!"
   ]
  },
  {
   "cell_type": "markdown",
   "metadata": {},
   "source": [
    "## Data description"
   ]
  },
  {
   "cell_type": "markdown",
   "metadata": {},
   "source": [
    "### File requests_train.csv"
   ]
  },
  {
   "cell_type": "markdown",
   "metadata": {},
   "source": [
    "| Field name                       | Description                                                                                                                                                        | Type                     |\n",
    "|----------------------------------|--------------------------------------------------------------------------------------------------------------------------------------------------------------------|--------------------------|\n",
    "| request\\_id                      | \"the id of request, which is unique in this dataset\\.\"                                                                                                             | string                   |\n",
    "| animal\\_presence                 | flage indicating whether an animal is accompanying the group                                                                                                       | boolean                  |\n",
    "| answer\\_creation\\_date           | the timestamp when the anwer was registered                                                                                                                        | timestamp \\(iso format\\) |\n",
    "| child\\_situation                 | the number representing the situation of the children in the group \\(if any\\)                                                                                      | integer                  |\n",
    "| child\\_to\\_come                  | flag indicating whether the group is expecting a baby                                                                                                              | boolean                  |\n",
    "| district                         | the id of the administrative district where the request is made\\. Each district has its own emergency center responsible for receiving and managing the requests\\. | integer                  |\n",
    "| granted\\_number\\_of\\_nights      | \"the target \\(train dataset only\\), the categorized number of nights granted to the request\"                                                                       | integer                  |\n",
    "| group\\_composition\\_id           | the number representing the group composition                                                                                                                      | integer                  |\n",
    "| group\\_composition\\_label        | the description of the group composition                                                                                                                           | string                   |\n",
    "| group\\_creation\\_date            | the timestamp when the group was created in the database                                                                                                           | timestamp \\(iso format\\) |\n",
    "| group\\_id                        | \"the id of the group\\. A group can be linked to several requests, so not unique\"                                                                                   | string                   |\n",
    "| group\\_main\\_requester\\_id       | the id of the individual making the request\\. it cannot be joined with individual\\_id                                                                              | string                   |\n",
    "| group\\_type                      | whether the group is a made of several people \\(GROUP\\) or just one person \\(PERSON\\)                                                                              | string                   |\n",
    "| housing\\_situation\\_id           | the id of the housing situation of the group when making the request                                                                                               | integer                  |\n",
    "| housing\\_situation\\_label        | the description of the housing situation of the group when making the request                                                                                      | string                   |\n",
    "| long\\_term\\_housing\\_request     | flag indicating whether the groupe has filed a request for a long term housing solution\\.                                                                          | boolean                  |\n",
    "| number\\_of\\_underage             | the number of individual under 18 in the group                                                                                                                     | integer                  |\n",
    "| request\\_backoffice\\_creator\\_id | the id of the emergency call center employee who received the request                                                                                              | string                   |\n",
    "| request\\_creation\\_date          | the timestamp when the request was made\\.                                                                                                                          | timestamp \\(iso format\\) |\n",
    "| requester\\_type                  | the type of person who called the emergency service \\(a user / a social patrol / a third party\\)                                                                   | string                   |\n",
    "| social\\_situation\\_id            | the id representing the social situation of the group in the database                                                                                              | string                   |\n",
    "| town                             | the town where the requester is living                                                                                                                             | string                   |\n",
    "| victim\\_of\\_violence             | flag indicating whether the group includes an individual victim of violence                                                                                        | boolean                  |\n",
    "| victim\\_of\\_violence\\_type       | type of the individual victim of violence \\(and if it is a case of domestic violence\\)                                                                             | string                   |\n"
   ]
  },
  {
   "cell_type": "code",
   "execution_count": 2,
   "metadata": {},
   "outputs": [],
   "source": [
    "target =\"granted_number_of_nights\""
   ]
  },
  {
   "cell_type": "code",
   "execution_count": null,
   "metadata": {},
   "outputs": [
    {
     "data": {
      "text/plain": [
       "(238191, 24)"
      ]
     },
     "execution_count": 3,
     "metadata": {},
     "output_type": "execute_result"
    }
   ],
   "source": [
    "requests_train = pd.read_csv(filepath_or_buffer='data/requests_train.csv',\n",
    "                             sep=',',\n",
    "                             low_memory=False,\n",
    "                             error_bad_lines=False)\n",
    "\n",
    "requests_test = pd.read_csv(filepath_or_buffer='data/requests_test.csv',\n",
    "                            sep=',',\n",
    "                            low_memory=False,\n",
    "                            error_bad_lines=False)\n"
   ]
  },
  {
   "cell_type": "code",
   "execution_count": 94,
   "metadata": {},
   "outputs": [
    {
     "data": {
      "text/plain": [
       "((238191, 24), (59548, 24))"
      ]
     },
     "execution_count": 94,
     "metadata": {},
     "output_type": "execute_result"
    }
   ],
   "source": [
    "requests_train.shape, requests_test.shape, "
   ]
  },
  {
   "cell_type": "markdown",
   "metadata": {},
   "source": [
    "### File individuals_train.csv"
   ]
  },
  {
   "cell_type": "markdown",
   "metadata": {},
   "source": [
    "| Field name                      | Description                                                                                                               | Type                     |\n",
    "|---------------------------------|---------------------------------------------------------------------------------------------------------------------------|--------------------------|\n",
    "| request\\_id                     | the id of the request\\. It is not unique in this dataset \\(a request can be for several individual in case of a group\\)\\. | string                   |\n",
    "| individual\\_id                  | the id of the individual                                                                                                  | string                   |\n",
    "| birth\\_month                    | month of birth of the individual                                                                                          | integer                  |\n",
    "| birth\\_year                     | the year of birth of the individual                                                                                       | integer                  |\n",
    "| childcare\\_center\\_supervision  | flag representing the fact that a child receives follow\\-up care                                                          | boolean                  |\n",
    "| disabled\\_worker\\_certification | flag representing the fact that an individual is considered disabled regarding the employement law                        | boolean                  |\n",
    "| gender                          | the gender of the individual                                                                                              | boolean                  |\n",
    "| housing\\_situation\\_2\\_id       | housing situation category number of the group when making the request \\(more precise\\)                                   | integer                  |\n",
    "| housing\\_situation\\_2\\_label    | description of the housing situation of the group when making the request \\(more precise\\)                                | string                   |\n",
    "| individual\\_creation\\_date      | timestamp of the individual creation in the database                                                                      | timestamp \\(iso format\\) |\n",
    "| individual\\_role                | description of the role of the individual                                                                                 | string                   |\n",
    "| individual\\_role\\_2\\_id         | category number of the role of the individual                                                                             | integer                  |\n",
    "| individual\\_role\\_2\\_label      | \"description of the role of the individual, more precise than the former\"                                                 | string                   |\n",
    "| marital\\_status\\_id             | id of the marital status of the individual                                                                                | integer                  |\n",
    "| marital\\_status\\_label          | description of the marital status of the individual                                                                       | string                   |\n",
    "| pregnancy                       | flag representing whether the individual is pregnant \\(if applicable\\)                                                    | boolean                  |\n"
   ]
  },
  {
   "cell_type": "code",
   "execution_count": 28,
   "metadata": {},
   "outputs": [
    {
     "data": {
      "text/html": [
       "<div>\n",
       "<style scoped>\n",
       "    .dataframe tbody tr th:only-of-type {\n",
       "        vertical-align: middle;\n",
       "    }\n",
       "\n",
       "    .dataframe tbody tr th {\n",
       "        vertical-align: top;\n",
       "    }\n",
       "\n",
       "    .dataframe thead th {\n",
       "        text-align: right;\n",
       "    }\n",
       "</style>\n",
       "<table border=\"1\" class=\"dataframe\">\n",
       "  <thead>\n",
       "    <tr style=\"text-align: right;\">\n",
       "      <th></th>\n",
       "      <th>request_id</th>\n",
       "      <th>individual_id</th>\n",
       "      <th>housing_situation_2_id</th>\n",
       "      <th>housing_situation_2_label</th>\n",
       "      <th>birth_month</th>\n",
       "      <th>birth_year</th>\n",
       "      <th>childcare_center_supervision</th>\n",
       "      <th>disabled_worker_certification</th>\n",
       "      <th>gender</th>\n",
       "      <th>individual_creation_date</th>\n",
       "      <th>individual_role</th>\n",
       "      <th>individual_role_2_id</th>\n",
       "      <th>individual_role_2_label</th>\n",
       "      <th>marital_status_id</th>\n",
       "      <th>marital_status_label</th>\n",
       "      <th>pregnancy</th>\n",
       "    </tr>\n",
       "  </thead>\n",
       "  <tbody>\n",
       "    <tr>\n",
       "      <th>0</th>\n",
       "      <td>130667d2964de43c511d0ead7ac66b33</td>\n",
       "      <td>b24a8cfaaf3663bac45ca3bcd24f0b36</td>\n",
       "      <td>20</td>\n",
       "      <td>on the street</td>\n",
       "      <td>5</td>\n",
       "      <td>1977</td>\n",
       "      <td>NaN</td>\n",
       "      <td>NaN</td>\n",
       "      <td>male</td>\n",
       "      <td>2018-01-29</td>\n",
       "      <td>isolated person</td>\n",
       "      <td>30</td>\n",
       "      <td>isolated adult</td>\n",
       "      <td>10</td>\n",
       "      <td>single person</td>\n",
       "      <td>f</td>\n",
       "    </tr>\n",
       "    <tr>\n",
       "      <th>1</th>\n",
       "      <td>b1cd62fcf24eebb0f685d5eaf55317a8</td>\n",
       "      <td>eef783d1bda82661a751c12c34aff8c2</td>\n",
       "      <td>20</td>\n",
       "      <td>on the street</td>\n",
       "      <td>5</td>\n",
       "      <td>1980</td>\n",
       "      <td>NaN</td>\n",
       "      <td>NaN</td>\n",
       "      <td>male</td>\n",
       "      <td>2019-03-07</td>\n",
       "      <td>NaN</td>\n",
       "      <td>30</td>\n",
       "      <td>isolated adult</td>\n",
       "      <td>-1</td>\n",
       "      <td>NaN</td>\n",
       "      <td>f</td>\n",
       "    </tr>\n",
       "    <tr>\n",
       "      <th>2</th>\n",
       "      <td>12cc0a18890bd4959fe42df3ae58838e</td>\n",
       "      <td>927b6fa58d6be263c411332835b11fec</td>\n",
       "      <td>20</td>\n",
       "      <td>on the street</td>\n",
       "      <td>1</td>\n",
       "      <td>2003</td>\n",
       "      <td>NaN</td>\n",
       "      <td>NaN</td>\n",
       "      <td>male</td>\n",
       "      <td>2019-03-13</td>\n",
       "      <td>NaN</td>\n",
       "      <td>10</td>\n",
       "      <td>isolated underage/child</td>\n",
       "      <td>-1</td>\n",
       "      <td>NaN</td>\n",
       "      <td>f</td>\n",
       "    </tr>\n",
       "    <tr>\n",
       "      <th>3</th>\n",
       "      <td>ae2d5b4dc181d29e430132f145da1556</td>\n",
       "      <td>94181d5cf4a56cc84d12677df84e2e03</td>\n",
       "      <td>20</td>\n",
       "      <td>on the street</td>\n",
       "      <td>7</td>\n",
       "      <td>1986</td>\n",
       "      <td>NaN</td>\n",
       "      <td>NaN</td>\n",
       "      <td>female</td>\n",
       "      <td>2018-10-09</td>\n",
       "      <td>NaN</td>\n",
       "      <td>30</td>\n",
       "      <td>isolated adult</td>\n",
       "      <td>-1</td>\n",
       "      <td>NaN</td>\n",
       "      <td>f</td>\n",
       "    </tr>\n",
       "    <tr>\n",
       "      <th>4</th>\n",
       "      <td>d13a17ce36c832514fda2464e11c4a9f</td>\n",
       "      <td>e79d2e3f9ace50049f1796c098008c13</td>\n",
       "      <td>35</td>\n",
       "      <td>hotel paid by the emergency structure</td>\n",
       "      <td>9</td>\n",
       "      <td>1980</td>\n",
       "      <td>NaN</td>\n",
       "      <td>NaN</td>\n",
       "      <td>female</td>\n",
       "      <td>2017-06-22</td>\n",
       "      <td>husband/spouse</td>\n",
       "      <td>1</td>\n",
       "      <td>partner</td>\n",
       "      <td>-1</td>\n",
       "      <td>NaN</td>\n",
       "      <td>f</td>\n",
       "    </tr>\n",
       "  </tbody>\n",
       "</table>\n",
       "</div>"
      ],
      "text/plain": [
       "                         request_id                     individual_id  \\\n",
       "0  130667d2964de43c511d0ead7ac66b33  b24a8cfaaf3663bac45ca3bcd24f0b36   \n",
       "1  b1cd62fcf24eebb0f685d5eaf55317a8  eef783d1bda82661a751c12c34aff8c2   \n",
       "2  12cc0a18890bd4959fe42df3ae58838e  927b6fa58d6be263c411332835b11fec   \n",
       "3  ae2d5b4dc181d29e430132f145da1556  94181d5cf4a56cc84d12677df84e2e03   \n",
       "4  d13a17ce36c832514fda2464e11c4a9f  e79d2e3f9ace50049f1796c098008c13   \n",
       "\n",
       "   housing_situation_2_id              housing_situation_2_label  birth_month  \\\n",
       "0                      20                          on the street            5   \n",
       "1                      20                          on the street            5   \n",
       "2                      20                          on the street            1   \n",
       "3                      20                          on the street            7   \n",
       "4                      35  hotel paid by the emergency structure            9   \n",
       "\n",
       "   birth_year childcare_center_supervision disabled_worker_certification  \\\n",
       "0        1977                          NaN                           NaN   \n",
       "1        1980                          NaN                           NaN   \n",
       "2        2003                          NaN                           NaN   \n",
       "3        1986                          NaN                           NaN   \n",
       "4        1980                          NaN                           NaN   \n",
       "\n",
       "   gender individual_creation_date  individual_role  individual_role_2_id  \\\n",
       "0    male               2018-01-29  isolated person                    30   \n",
       "1    male               2019-03-07              NaN                    30   \n",
       "2    male               2019-03-13              NaN                    10   \n",
       "3  female               2018-10-09              NaN                    30   \n",
       "4  female               2017-06-22   husband/spouse                     1   \n",
       "\n",
       "   individual_role_2_label  marital_status_id marital_status_label pregnancy  \n",
       "0           isolated adult                 10        single person         f  \n",
       "1           isolated adult                 -1                  NaN         f  \n",
       "2  isolated underage/child                 -1                  NaN         f  \n",
       "3           isolated adult                 -1                  NaN         f  \n",
       "4                  partner                 -1                  NaN         f  "
      ]
     },
     "execution_count": 28,
     "metadata": {},
     "output_type": "execute_result"
    }
   ],
   "source": [
    "individuals_train = pd.read_csv(filepath_or_buffer='data/individuals_train.csv',\n",
    "                                sep=',',\n",
    "                                low_memory=False,\n",
    "                                error_bad_lines=False)\n",
    "\n",
    "individuals_test = pd.read_csv(filepath_or_buffer='data/individuals_test.csv',\n",
    "                               sep=',',\n",
    "                               low_memory=False,\n",
    "                               error_bad_lines=False)\n",
    "\n",
    "individuals_train.head()"
   ]
  },
  {
   "cell_type": "code",
   "execution_count": 8,
   "metadata": {},
   "outputs": [
    {
     "data": {
      "text/plain": [
       "((384133, 16), (95641, 16))"
      ]
     },
     "execution_count": 8,
     "metadata": {},
     "output_type": "execute_result"
    }
   ],
   "source": [
    "individuals_train.shape , individuals_test.shape"
   ]
  },
  {
   "cell_type": "markdown",
   "metadata": {},
   "source": [
    "## Data-preparation functions"
   ]
  },
  {
   "cell_type": "code",
   "execution_count": 114,
   "metadata": {},
   "outputs": [],
   "source": [
    "\n",
    "def null_rates(nullmatrix, ascending=False):\n",
    "    \"\"\"Returns the rate of null values for each feature from the given null matrix.\n",
    "\n",
    "    Args:\n",
    "        nullmatrix (numpy.ndarray): such as computed by null_matrix()\n",
    "\n",
    "        ascending (:obj:`bool`, optional): Order of sort (False by default for decreasing).\n",
    "            None to deactivate.\n",
    "\n",
    "\n",
    "    \"\"\"\n",
    "    return (nullmatrix.sum() / nullmatrix.shape[0] * 100).sort_values(\n",
    "        ascending=ascending)\n",
    "\n",
    "def null_matrix(df, null_vals=None):\n",
    "    \"\"\"Returns the null matrix for the given dataset.\n",
    "\n",
    "    The null matrix is the dataframe where each value is replaced by True if it is a null\n",
    "    value (in null_vals) or False otherwise.\n",
    "\n",
    "    Args:\n",
    "        df (pandas.DataFrame) : the dataframe to test\n",
    "\n",
    "        null_vals (:obj:`list`, optional) : the values to interpret as Null values (default None)\n",
    "            If default then the values are : [None, float('nan'), 'NaT']\n",
    "\n",
    "    \"\"\"\n",
    "    if null_vals is None:\n",
    "        null_vals = [None, float('nan'), 'NaT']\n",
    "    return df.isin(null_vals)\n",
    "\n",
    "def plot_null_rates(df, null_vals):\n",
    "    \"\"\"Plots the null rates of the various columns of the dataframe.\n",
    "\n",
    "    Counts the amount of null values in df, then computes the null rates of\n",
    "    every columns. Then, displays a stylized pd.DataFrame which highlights the\n",
    "    null rates of the columns.\n",
    "\n",
    "    Args:\n",
    "        df (pd.DataFrame): The dataset whose null rates should be displayed.\n",
    "\n",
    "        null_vals (list): The values that are considered to be missing values.\n",
    "\n",
    "    Returns:\n",
    "        (pd.DataFrame): The stylized dataframe to be displayed.\n",
    "\n",
    "    Examples:\n",
    "        >>> null_values = [None, float('nan'), 'NaT']\n",
    "        >>> df = pd.DataFrame({'A': [1, float('nan')], 'B': [None, 'txt']})\n",
    "        >>> null_rates_to_display = plot_null_rates(df, null_values)\n",
    "\n",
    "    \"\"\"\n",
    "    null_matrix = df.isin(null_vals)\n",
    "\n",
    "    df_null_rates = null_rates(null_matrix)\n",
    "\n",
    "    contains_null = (df_null_rates != 0).values\n",
    "\n",
    "    missing_values = pd.DataFrame(\n",
    "        {'contains_null': contains_null, 'null_ratio': df_null_rates}\n",
    "    ).sort_values('null_ratio', ascending=False)\n",
    "\n",
    "    def missing_values_styler(null_ratio):\n",
    "        if null_ratio == 0:\n",
    "            return 'color: green'\n",
    "        elif null_ratio < 30:\n",
    "            return 'color: blue'\n",
    "        elif null_ratio < 80:\n",
    "            return 'color: orange'\n",
    "        else:\n",
    "            return 'color: red'\n",
    "\n",
    "    return missing_values.style.applymap(\n",
    "        missing_values_styler,\n",
    "        subset=['null_ratio']\n",
    "    )\n",
    "\n",
    "\n",
    "def missing_value_rate(df, null_vals):\n",
    "    \"\"\"Returns the global missing value rate in the dataframe df.\n",
    "\n",
    "    Uses the null_values parameter to count the number of missing values per\n",
    "    column in the dataset. Then, computes the global missing value rate.\n",
    "\n",
    "    Args:\n",
    "        df (pandas.DataFrame): The dataset to compute the missing value rate on.\n",
    "\n",
    "        null_vals (list): The values that are considered to be missing values.\n",
    "\n",
    "    Returns:\n",
    "        float: The global missing value rate.\n",
    "\n",
    "    Examples:\n",
    "        >>> null_values = [None, float('nan'), 'NaT']\n",
    "        >>> df = pd.DataFrame({'A': [1, float('nan')], 'B': [None, 'txt']})\n",
    "        >>> missing_value_rate(df, null_vals)\n",
    "        0.5\n",
    "\n",
    "    \"\"\"\n",
    "    null_matrix = df.isin(null_vals)\n",
    "    return null_matrix.sum().sum() / (null_matrix.shape[0] *\n",
    "                                      null_matrix.shape[1])"
   ]
  },
  {
   "cell_type": "code",
   "execution_count": 115,
   "metadata": {},
   "outputs": [],
   "source": [
    "def plot_correlation_matrix(corrmatrix, figsize=None):\n",
    "    \"\"\"Plot a correlation matrix heat map.\n",
    "\n",
    "    Uses the provided correlation matrix to plot a seaborn heatmap. Wrapper of\n",
    "    seaborn.heatmap.\n",
    "\n",
    "    Args:\n",
    "        corrmatrix (pandas.DataFrame): The correlation matrix as a DataFrame\n",
    "            such as index and column are a same list, containing features.\n",
    "            Each cell contains the correlation of (feature1, feature2). Such a\n",
    "            matrix can be obtained by calling DataFrame.corr()\n",
    "\n",
    "        figsize (tuple of ints): The figsize argument to be passed to\n",
    "            seaborn.heatmap.\n",
    "\n",
    "    Examples:\n",
    "        >>> df = pd.DataFrame({'A': [1, 2, 3, 4, 5], 'B': [3, 4, 4, 6, 6]})\n",
    "        >>> plot_correlation_matrix(df.corr())\n",
    "\n",
    "    References:\n",
    "        https://seaborn.pydata.org/generated/seaborn.heatmap.html\n",
    "\n",
    "    \"\"\"\n",
    "    if figsize is not None:\n",
    "        plt.figure(figsize=figsize)\n",
    "    sns.heatmap(\n",
    "        corrmatrix, vmin=-1, vmax=1, center=0,\n",
    "        cmap=sns.diverging_palette(20, 220, n=200), square=True,\n",
    "        robust=True\n",
    "    )"
   ]
  },
  {
   "cell_type": "code",
   "execution_count": 116,
   "metadata": {},
   "outputs": [],
   "source": [
    "def remove_duplicates(df, keep='first'):\n",
    "    \"\"\"Removes the duplicated rows from the dataframe.\n",
    "\n",
    "    Returns a new dataset stripped from duplicated rows (keep the first one).\n",
    "    Wrapper of the pandas.DataFrame.duplicated method.\n",
    "\n",
    "    Parameters:\n",
    "        df (pandas.DataFrame): The dataset to clear from duplicated rows.\n",
    "\n",
    "        keep (:obj:`str`, optional): In {'first', 'last', False}. 'first' by default.\n",
    "           The duplicated value to keep. If False, all values are dropped.\n",
    "\n",
    "    Returns:\n",
    "        (pandas.DataFrame) The dataframe without duplicated rows.\n",
    "\n",
    "    References:\n",
    "        https://pandas.pydata.org/pandas-docs/stable/reference/api/pandas.DataFrame.duplicated.html\n",
    "\n",
    "    Examples:\n",
    "        >>> df = pd.DataFrame({'my_feature': ['A', 'A', 'A', 'B', 'C', 'C']})\n",
    "        >>> remove_duplicates(df)\n",
    "          my_feature\n",
    "        0          A\n",
    "        3          B\n",
    "        4          C\n",
    "    \"\"\"\n",
    "    return df[np.logical_not(df.duplicated(keep=keep))]"
   ]
  },
  {
   "cell_type": "code",
   "execution_count": 117,
   "metadata": {},
   "outputs": [],
   "source": [
    "def series_is_categorical(series):\n",
    "    \"\"\"Indicates if the series contains data of dtype Categorical\n",
    "\n",
    "    Args:\n",
    "        series (pd.Series) : the series to check\n",
    "\n",
    "    Returns:\n",
    "        True if the series has dtype categorical, False otherwise\n",
    "    \"\"\"\n",
    "    return isinstance(series.dtype, pd.CategoricalDtype)\n",
    "def add_new_category(df, cat_features, category_name, inplace=False):\n",
    "    \"\"\"Add the new category 'category_name' to the features in cat_features.\n",
    "\n",
    "    In pandas, columns that are of type category can't be assigned a new category/value\n",
    "    without declaring it first (See references).\n",
    "\n",
    "    Args:\n",
    "       df (pandas.DataFrame) : The dataset\n",
    "\n",
    "       cat_features (Union[str, list]) : The list of category features. The dtypes need to be \"category\".\n",
    "\n",
    "       category_name (object) : The new category to add\n",
    "\n",
    "    Returns:\n",
    "\n",
    "    References:\n",
    "        https://pandas.pydata.org/pandas-docs/stable/reference/api/pandas.Series.cat.add_categories.html\n",
    "\n",
    "    \"\"\"\n",
    "    if isinstance(cat_features, str):\n",
    "        cat_features = [cat_features]\n",
    "\n",
    "    if inplace:\n",
    "        for c in cat_features:\n",
    "            df[c].cat.add_categories(new_categories=category_name, inplace=True)\n",
    "    else:\n",
    "        df_res = df.copy()\n",
    "        for c in cat_features:\n",
    "            df_res[c].cat.add_categories(new_categories=category_name, inplace=True)\n",
    "        return df_res\n",
    "    \n",
    "def columns_by_type(df):\n",
    "    \"\"\"\n",
    "    Returns 3 lists of columns, the first being the numerical columns,\n",
    "    the second are the categorical columns, and the last are the dates.\n",
    "    Dates must be of type np.datetime64. Dates represented as string won't be\n",
    "    detected.\n",
    "\n",
    "    Parameters\n",
    "    ----------\n",
    "    df : {pandas.DataFrame} the data\n",
    "\n",
    "    Returns\n",
    "    -------\n",
    "    out : {Tuple} (numerical, categorical, dates) the column lists\n",
    "    \"\"\"\n",
    "\n",
    "    dates = df.select_dtypes(include=[np.datetime64]).columns\n",
    "    categorical = df.select_dtypes(include=['O', \"category\", \"bool\"]).columns\n",
    "    numerical = df.columns.drop(dates).drop(categorical)\n",
    "\n",
    "    return numerical, categorical, dates\n",
    "\n",
    "def fill_na(df, numerical_filling=-1, categorical_filling='None',\n",
    "            date_filling=pd.to_datetime('today'), filling_dict=None):\n",
    "    \"\"\"Fills the null values of the data frame with the given values.\n",
    "\n",
    "    Fills the values considered as null such as numpy.NaN and None. The filling\n",
    "    value depends on the feature of the null value. The filling value provided\n",
    "    in filling_dict is used, and, if no filling value is found, the generic\n",
    "    filling values are used depending on the feature type.\n",
    "    This method is a wrapper of pandas.DataFrame.fillna.\n",
    "\n",
    "    Args:\n",
    "        df (pandas.DataFrame) the dataset whose missing value should be filled.\n",
    "\n",
    "        numerical_filling (float): Defaults to -1.\n",
    "            Filling value for numerical columns not specified in filling_dict.\n",
    "\n",
    "        categorical_filling (object): Defaults to 'None'.\n",
    "            Filling value for categorical columns not specified in filling_dict.\n",
    "\n",
    "        date_filling (pd.datetime64): Defaults to pd.to_datetime('today').\n",
    "            Filling value for date columns not specified in filling_dict.\n",
    "\n",
    "        filling_dict : (dict) Defaults to None.\n",
    "            Filling values for specific features. To assign a specific fill\n",
    "            value for feature 'f', provide filling_dict={'f': 'value'}\n",
    "            This dictionary takes priority over the type-specific filling\n",
    "            values arugments.\n",
    "\n",
    "    Returns:\n",
    "        (pandas.DataFrame) The dataframe with missing values updated as\n",
    "        specified.\n",
    "\n",
    "    References:\n",
    "        https://pandas.pydata.org/pandas-docs/stable/reference/api/pandas.DataFrame.fillna.html\n",
    "\n",
    "    Examples:\n",
    "        >>> from data_preparation.cleaning import fill_na\n",
    "        >>> df = pd.DataFrame({'A' : pd.to_datetime(['1966-05-12', pd.NaT, \\\n",
    "'2010-07-06', '2020-01-01']), 'B' : [1.2, 5.6, np.NaN, 100], \\\n",
    "'C' : [None, 'hello', 'world', '!']})\n",
    "        >>> fill_na(df, filling_dict={'A' : pd.to_datetime('1960-01-01')})\n",
    "                   A      B      C\n",
    "        0 1966-05-12    1.2   None\n",
    "        1 1960-01-01    5.6  hello\n",
    "        2 2010-07-06   -1.0  world\n",
    "        3 2020-01-01  100.0      !\n",
    "    \"\"\"\n",
    "\n",
    "    df = df.copy()\n",
    "    if filling_dict is None:\n",
    "        filling_dict = {}\n",
    "\n",
    "    num_col, cat_col, dates_col = columns_by_type(df)\n",
    "\n",
    "    # for category dtypes, explicitly add the new category beforehand\n",
    "    for c in cat_col:\n",
    "        if series_is_categorical(df[c]):\n",
    "            new_cat = filling_dict[c] if c in filling_dict else categorical_filling\n",
    "            add_new_category(df=df, cat_features=c, category_name=new_cat, inplace=True)\n",
    "\n",
    "    for col_type, col_default_fill in zip([num_col, cat_col, dates_col],\n",
    "                                          [numerical_filling,\n",
    "                                           categorical_filling, date_filling]):\n",
    "        for c in col_type:\n",
    "            if c not in filling_dict:\n",
    "                filling_dict[c] = col_default_fill\n",
    "\n",
    "    df.fillna(filling_dict, inplace=True)\n",
    "    return df\n"
   ]
  },
  {
   "cell_type": "code",
   "execution_count": null,
   "metadata": {},
   "outputs": [],
   "source": []
  },
  {
   "cell_type": "code",
   "execution_count": null,
   "metadata": {},
   "outputs": [],
   "source": []
  },
  {
   "cell_type": "code",
   "execution_count": null,
   "metadata": {},
   "outputs": [],
   "source": []
  },
  {
   "cell_type": "markdown",
   "metadata": {},
   "source": [
    "## Data analysis (agregation and merging)"
   ]
  },
  {
   "cell_type": "code",
   "execution_count": 101,
   "metadata": {},
   "outputs": [],
   "source": [
    "# Vérifier la présence de toutes les requetes dans le jeu de données des individus \n",
    "assert requests_train['request_id'].isin(individuals_train['request_id']).all(), \"Certaines request_id de requests_train ne sont pas présentes dans individuals_train\"\n",
    "assert requests_test['request_id'].isin(individuals_test['request_id']).all(), \"Certaines request_id de requests_train ne sont pas présentes dans individuals_train\""
   ]
  },
  {
   "cell_type": "markdown",
   "metadata": {},
   "source": [
    "#### Convert bool columns "
   ]
  },
  {
   "cell_type": "code",
   "execution_count": 102,
   "metadata": {},
   "outputs": [
    {
     "data": {
      "text/plain": [
       "-1    384133\n",
       "Name: gender, dtype: int64"
      ]
     },
     "execution_count": 102,
     "metadata": {},
     "output_type": "execute_result"
    }
   ],
   "source": [
    "## convert gender column of individual_train\n",
    "individuals_train[\"gender\"] = individuals_train[\"gender\"].astype(str).str.lower().map({\"male\": 1, \"female\": 0})\n",
    "individuals_train[\"gender\"] = individuals_train[\"gender\"].fillna(-1).astype(int)\n",
    "individuals_train[\"gender\"].value_counts()"
   ]
  },
  {
   "cell_type": "code",
   "execution_count": 103,
   "metadata": {},
   "outputs": [
    {
     "data": {
      "text/plain": [
       "-1    95641\n",
       "Name: gender, dtype: int64"
      ]
     },
     "execution_count": 103,
     "metadata": {},
     "output_type": "execute_result"
    }
   ],
   "source": [
    "## convert gender column of individual_train\n",
    "individuals_test[\"gender\"] = individuals_test[\"gender\"].astype(str).str.lower().map({\"male\": 1, \"female\": 0})\n",
    "individuals_test[\"gender\"] = individuals_test[\"gender\"].fillna(-1).astype(int)\n",
    "individuals_test[\"gender\"].value_counts()"
   ]
  },
  {
   "cell_type": "code",
   "execution_count": 104,
   "metadata": {},
   "outputs": [
    {
     "data": {
      "text/plain": [
       "-1    384133\n",
       "Name: pregnancy, dtype: int64"
      ]
     },
     "execution_count": 104,
     "metadata": {},
     "output_type": "execute_result"
    }
   ],
   "source": [
    "## convert pregnancy column\n",
    "individuals_train[\"pregnancy\"] = individuals_train[\"pregnancy\"].astype(str).str.lower().map({\"t\": 1, \"f\": 0})\n",
    "individuals_train[\"pregnancy\"] = individuals_train[\"pregnancy\"].fillna(-1).astype(int)\n",
    "individuals_train[\"pregnancy\"].value_counts()"
   ]
  },
  {
   "cell_type": "code",
   "execution_count": 105,
   "metadata": {},
   "outputs": [
    {
     "data": {
      "text/plain": [
       "-1    95641\n",
       "Name: pregnancy, dtype: int64"
      ]
     },
     "execution_count": 105,
     "metadata": {},
     "output_type": "execute_result"
    }
   ],
   "source": [
    "## convert pregnancy column\n",
    "individuals_test[\"pregnancy\"] = individuals_test[\"pregnancy\"].astype(str).str.lower().map({\"t\": 1, \"f\": 0})\n",
    "individuals_test[\"pregnancy\"] = individuals_test[\"pregnancy\"].fillna(-1).astype(int)\n",
    "individuals_test[\"pregnancy\"].value_counts()"
   ]
  },
  {
   "cell_type": "code",
   "execution_count": 106,
   "metadata": {},
   "outputs": [],
   "source": [
    "#create age column\n",
    "from datetime import datetime\n",
    "individuals_train[\"age\"] = datetime.now().year - individuals_train[\"birth_year\"]\n",
    "individuals_test[\"age\"] = datetime.now().year - individuals_test[\"birth_year\"]"
   ]
  },
  {
   "cell_type": "markdown",
   "metadata": {},
   "source": [
    "#### agregate int interesting columns in individual dataset"
   ]
  },
  {
   "cell_type": "code",
   "execution_count": 107,
   "metadata": {},
   "outputs": [],
   "source": [
    "# aggregate columns\n",
    "agg_dict= {\n",
    "    'age': ['mean', 'min', 'max'],\n",
    "    'gender' : 'sum',\n",
    "    'pregnancy': 'sum',\n",
    "    'housing_situation_2_id':'mean',\n",
    "    'individual_id': 'count'\n",
    "\n",
    "}\n",
    "individuals_train_agg = individuals_train.groupby('request_id').agg(agg_dict)\n",
    "individuals_test_agg = individuals_train.groupby('request_id').agg(agg_dict)"
   ]
  },
  {
   "cell_type": "code",
   "execution_count": 108,
   "metadata": {},
   "outputs": [
    {
     "data": {
      "text/html": [
       "<div>\n",
       "<style scoped>\n",
       "    .dataframe tbody tr th:only-of-type {\n",
       "        vertical-align: middle;\n",
       "    }\n",
       "\n",
       "    .dataframe tbody tr th {\n",
       "        vertical-align: top;\n",
       "    }\n",
       "\n",
       "    .dataframe thead th {\n",
       "        text-align: right;\n",
       "    }\n",
       "</style>\n",
       "<table border=\"1\" class=\"dataframe\">\n",
       "  <thead>\n",
       "    <tr style=\"text-align: right;\">\n",
       "      <th></th>\n",
       "      <th>request_id</th>\n",
       "      <th>age_mean</th>\n",
       "      <th>age_min</th>\n",
       "      <th>age_max</th>\n",
       "      <th>gender_sum</th>\n",
       "      <th>pregnancy_sum</th>\n",
       "      <th>housing_situation_2_id_mean</th>\n",
       "      <th>individual_id_count</th>\n",
       "    </tr>\n",
       "  </thead>\n",
       "  <tbody>\n",
       "    <tr>\n",
       "      <th>0</th>\n",
       "      <td>0000602749161524aedd04269957e5fc</td>\n",
       "      <td>29.0</td>\n",
       "      <td>29</td>\n",
       "      <td>29</td>\n",
       "      <td>-1</td>\n",
       "      <td>-1</td>\n",
       "      <td>20</td>\n",
       "      <td>1</td>\n",
       "    </tr>\n",
       "    <tr>\n",
       "      <th>1</th>\n",
       "      <td>0000c66f6bb24e930cba6a3872d3ab02</td>\n",
       "      <td>44.0</td>\n",
       "      <td>44</td>\n",
       "      <td>44</td>\n",
       "      <td>-1</td>\n",
       "      <td>-1</td>\n",
       "      <td>20</td>\n",
       "      <td>1</td>\n",
       "    </tr>\n",
       "    <tr>\n",
       "      <th>2</th>\n",
       "      <td>0000dbd253c096eab97cab0545915ab2</td>\n",
       "      <td>25.0</td>\n",
       "      <td>25</td>\n",
       "      <td>25</td>\n",
       "      <td>-1</td>\n",
       "      <td>-1</td>\n",
       "      <td>20</td>\n",
       "      <td>1</td>\n",
       "    </tr>\n",
       "    <tr>\n",
       "      <th>3</th>\n",
       "      <td>0001826bdd626262ec2bda3a1b908aac</td>\n",
       "      <td>45.0</td>\n",
       "      <td>45</td>\n",
       "      <td>45</td>\n",
       "      <td>-1</td>\n",
       "      <td>-1</td>\n",
       "      <td>20</td>\n",
       "      <td>1</td>\n",
       "    </tr>\n",
       "    <tr>\n",
       "      <th>4</th>\n",
       "      <td>0001925b4cd4d65110638ee3d5f2f454</td>\n",
       "      <td>32.0</td>\n",
       "      <td>32</td>\n",
       "      <td>32</td>\n",
       "      <td>-1</td>\n",
       "      <td>-1</td>\n",
       "      <td>20</td>\n",
       "      <td>1</td>\n",
       "    </tr>\n",
       "    <tr>\n",
       "      <th>...</th>\n",
       "      <td>...</td>\n",
       "      <td>...</td>\n",
       "      <td>...</td>\n",
       "      <td>...</td>\n",
       "      <td>...</td>\n",
       "      <td>...</td>\n",
       "      <td>...</td>\n",
       "      <td>...</td>\n",
       "    </tr>\n",
       "    <tr>\n",
       "      <th>238186</th>\n",
       "      <td>fffd7c7c22a9147bc4af4b869eb97f19</td>\n",
       "      <td>39.0</td>\n",
       "      <td>39</td>\n",
       "      <td>39</td>\n",
       "      <td>-1</td>\n",
       "      <td>-1</td>\n",
       "      <td>20</td>\n",
       "      <td>1</td>\n",
       "    </tr>\n",
       "    <tr>\n",
       "      <th>238187</th>\n",
       "      <td>fffeeac2155c826f0ccc2f912c1049f9</td>\n",
       "      <td>48.0</td>\n",
       "      <td>48</td>\n",
       "      <td>48</td>\n",
       "      <td>-1</td>\n",
       "      <td>-1</td>\n",
       "      <td>20</td>\n",
       "      <td>1</td>\n",
       "    </tr>\n",
       "    <tr>\n",
       "      <th>238188</th>\n",
       "      <td>fffeff160a0bf8c160c9e63436273cec</td>\n",
       "      <td>37.0</td>\n",
       "      <td>37</td>\n",
       "      <td>37</td>\n",
       "      <td>-1</td>\n",
       "      <td>-1</td>\n",
       "      <td>32</td>\n",
       "      <td>1</td>\n",
       "    </tr>\n",
       "    <tr>\n",
       "      <th>238189</th>\n",
       "      <td>ffff40d1408c4f032e1047adab9fbf93</td>\n",
       "      <td>43.0</td>\n",
       "      <td>43</td>\n",
       "      <td>43</td>\n",
       "      <td>-1</td>\n",
       "      <td>-1</td>\n",
       "      <td>47</td>\n",
       "      <td>1</td>\n",
       "    </tr>\n",
       "    <tr>\n",
       "      <th>238190</th>\n",
       "      <td>ffff8a617e122d989a9024a9c09fd622</td>\n",
       "      <td>57.0</td>\n",
       "      <td>57</td>\n",
       "      <td>57</td>\n",
       "      <td>-1</td>\n",
       "      <td>-1</td>\n",
       "      <td>32</td>\n",
       "      <td>1</td>\n",
       "    </tr>\n",
       "  </tbody>\n",
       "</table>\n",
       "<p>238191 rows × 8 columns</p>\n",
       "</div>"
      ],
      "text/plain": [
       "                              request_id  age_mean  age_min  age_max  \\\n",
       "0       0000602749161524aedd04269957e5fc      29.0       29       29   \n",
       "1       0000c66f6bb24e930cba6a3872d3ab02      44.0       44       44   \n",
       "2       0000dbd253c096eab97cab0545915ab2      25.0       25       25   \n",
       "3       0001826bdd626262ec2bda3a1b908aac      45.0       45       45   \n",
       "4       0001925b4cd4d65110638ee3d5f2f454      32.0       32       32   \n",
       "...                                  ...       ...      ...      ...   \n",
       "238186  fffd7c7c22a9147bc4af4b869eb97f19      39.0       39       39   \n",
       "238187  fffeeac2155c826f0ccc2f912c1049f9      48.0       48       48   \n",
       "238188  fffeff160a0bf8c160c9e63436273cec      37.0       37       37   \n",
       "238189  ffff40d1408c4f032e1047adab9fbf93      43.0       43       43   \n",
       "238190  ffff8a617e122d989a9024a9c09fd622      57.0       57       57   \n",
       "\n",
       "        gender_sum  pregnancy_sum  housing_situation_2_id_mean  \\\n",
       "0               -1             -1                           20   \n",
       "1               -1             -1                           20   \n",
       "2               -1             -1                           20   \n",
       "3               -1             -1                           20   \n",
       "4               -1             -1                           20   \n",
       "...            ...            ...                          ...   \n",
       "238186          -1             -1                           20   \n",
       "238187          -1             -1                           20   \n",
       "238188          -1             -1                           32   \n",
       "238189          -1             -1                           47   \n",
       "238190          -1             -1                           32   \n",
       "\n",
       "        individual_id_count  \n",
       "0                         1  \n",
       "1                         1  \n",
       "2                         1  \n",
       "3                         1  \n",
       "4                         1  \n",
       "...                     ...  \n",
       "238186                    1  \n",
       "238187                    1  \n",
       "238188                    1  \n",
       "238189                    1  \n",
       "238190                    1  \n",
       "\n",
       "[238191 rows x 8 columns]"
      ]
     },
     "execution_count": 108,
     "metadata": {},
     "output_type": "execute_result"
    }
   ],
   "source": [
    "individuals_train_agg.columns = ['_'.join(col).strip() for col in individuals_train_agg.columns.values]\n",
    "individuals_train_agg.reset_index(inplace=True)\n",
    "individuals_train_agg"
   ]
  },
  {
   "cell_type": "code",
   "execution_count": 109,
   "metadata": {},
   "outputs": [
    {
     "data": {
      "text/html": [
       "<div>\n",
       "<style scoped>\n",
       "    .dataframe tbody tr th:only-of-type {\n",
       "        vertical-align: middle;\n",
       "    }\n",
       "\n",
       "    .dataframe tbody tr th {\n",
       "        vertical-align: top;\n",
       "    }\n",
       "\n",
       "    .dataframe thead th {\n",
       "        text-align: right;\n",
       "    }\n",
       "</style>\n",
       "<table border=\"1\" class=\"dataframe\">\n",
       "  <thead>\n",
       "    <tr style=\"text-align: right;\">\n",
       "      <th></th>\n",
       "      <th>request_id</th>\n",
       "      <th>age_mean</th>\n",
       "      <th>age_min</th>\n",
       "      <th>age_max</th>\n",
       "      <th>gender_sum</th>\n",
       "      <th>pregnancy_sum</th>\n",
       "      <th>housing_situation_2_id_mean</th>\n",
       "      <th>individual_id_count</th>\n",
       "    </tr>\n",
       "  </thead>\n",
       "  <tbody>\n",
       "    <tr>\n",
       "      <th>0</th>\n",
       "      <td>0000602749161524aedd04269957e5fc</td>\n",
       "      <td>29.0</td>\n",
       "      <td>29</td>\n",
       "      <td>29</td>\n",
       "      <td>-1</td>\n",
       "      <td>-1</td>\n",
       "      <td>20</td>\n",
       "      <td>1</td>\n",
       "    </tr>\n",
       "    <tr>\n",
       "      <th>1</th>\n",
       "      <td>0000c66f6bb24e930cba6a3872d3ab02</td>\n",
       "      <td>44.0</td>\n",
       "      <td>44</td>\n",
       "      <td>44</td>\n",
       "      <td>-1</td>\n",
       "      <td>-1</td>\n",
       "      <td>20</td>\n",
       "      <td>1</td>\n",
       "    </tr>\n",
       "    <tr>\n",
       "      <th>2</th>\n",
       "      <td>0000dbd253c096eab97cab0545915ab2</td>\n",
       "      <td>25.0</td>\n",
       "      <td>25</td>\n",
       "      <td>25</td>\n",
       "      <td>-1</td>\n",
       "      <td>-1</td>\n",
       "      <td>20</td>\n",
       "      <td>1</td>\n",
       "    </tr>\n",
       "    <tr>\n",
       "      <th>3</th>\n",
       "      <td>0001826bdd626262ec2bda3a1b908aac</td>\n",
       "      <td>45.0</td>\n",
       "      <td>45</td>\n",
       "      <td>45</td>\n",
       "      <td>-1</td>\n",
       "      <td>-1</td>\n",
       "      <td>20</td>\n",
       "      <td>1</td>\n",
       "    </tr>\n",
       "    <tr>\n",
       "      <th>4</th>\n",
       "      <td>0001925b4cd4d65110638ee3d5f2f454</td>\n",
       "      <td>32.0</td>\n",
       "      <td>32</td>\n",
       "      <td>32</td>\n",
       "      <td>-1</td>\n",
       "      <td>-1</td>\n",
       "      <td>20</td>\n",
       "      <td>1</td>\n",
       "    </tr>\n",
       "    <tr>\n",
       "      <th>...</th>\n",
       "      <td>...</td>\n",
       "      <td>...</td>\n",
       "      <td>...</td>\n",
       "      <td>...</td>\n",
       "      <td>...</td>\n",
       "      <td>...</td>\n",
       "      <td>...</td>\n",
       "      <td>...</td>\n",
       "    </tr>\n",
       "    <tr>\n",
       "      <th>238186</th>\n",
       "      <td>fffd7c7c22a9147bc4af4b869eb97f19</td>\n",
       "      <td>39.0</td>\n",
       "      <td>39</td>\n",
       "      <td>39</td>\n",
       "      <td>-1</td>\n",
       "      <td>-1</td>\n",
       "      <td>20</td>\n",
       "      <td>1</td>\n",
       "    </tr>\n",
       "    <tr>\n",
       "      <th>238187</th>\n",
       "      <td>fffeeac2155c826f0ccc2f912c1049f9</td>\n",
       "      <td>48.0</td>\n",
       "      <td>48</td>\n",
       "      <td>48</td>\n",
       "      <td>-1</td>\n",
       "      <td>-1</td>\n",
       "      <td>20</td>\n",
       "      <td>1</td>\n",
       "    </tr>\n",
       "    <tr>\n",
       "      <th>238188</th>\n",
       "      <td>fffeff160a0bf8c160c9e63436273cec</td>\n",
       "      <td>37.0</td>\n",
       "      <td>37</td>\n",
       "      <td>37</td>\n",
       "      <td>-1</td>\n",
       "      <td>-1</td>\n",
       "      <td>32</td>\n",
       "      <td>1</td>\n",
       "    </tr>\n",
       "    <tr>\n",
       "      <th>238189</th>\n",
       "      <td>ffff40d1408c4f032e1047adab9fbf93</td>\n",
       "      <td>43.0</td>\n",
       "      <td>43</td>\n",
       "      <td>43</td>\n",
       "      <td>-1</td>\n",
       "      <td>-1</td>\n",
       "      <td>47</td>\n",
       "      <td>1</td>\n",
       "    </tr>\n",
       "    <tr>\n",
       "      <th>238190</th>\n",
       "      <td>ffff8a617e122d989a9024a9c09fd622</td>\n",
       "      <td>57.0</td>\n",
       "      <td>57</td>\n",
       "      <td>57</td>\n",
       "      <td>-1</td>\n",
       "      <td>-1</td>\n",
       "      <td>32</td>\n",
       "      <td>1</td>\n",
       "    </tr>\n",
       "  </tbody>\n",
       "</table>\n",
       "<p>238191 rows × 8 columns</p>\n",
       "</div>"
      ],
      "text/plain": [
       "                              request_id  age_mean  age_min  age_max  \\\n",
       "0       0000602749161524aedd04269957e5fc      29.0       29       29   \n",
       "1       0000c66f6bb24e930cba6a3872d3ab02      44.0       44       44   \n",
       "2       0000dbd253c096eab97cab0545915ab2      25.0       25       25   \n",
       "3       0001826bdd626262ec2bda3a1b908aac      45.0       45       45   \n",
       "4       0001925b4cd4d65110638ee3d5f2f454      32.0       32       32   \n",
       "...                                  ...       ...      ...      ...   \n",
       "238186  fffd7c7c22a9147bc4af4b869eb97f19      39.0       39       39   \n",
       "238187  fffeeac2155c826f0ccc2f912c1049f9      48.0       48       48   \n",
       "238188  fffeff160a0bf8c160c9e63436273cec      37.0       37       37   \n",
       "238189  ffff40d1408c4f032e1047adab9fbf93      43.0       43       43   \n",
       "238190  ffff8a617e122d989a9024a9c09fd622      57.0       57       57   \n",
       "\n",
       "        gender_sum  pregnancy_sum  housing_situation_2_id_mean  \\\n",
       "0               -1             -1                           20   \n",
       "1               -1             -1                           20   \n",
       "2               -1             -1                           20   \n",
       "3               -1             -1                           20   \n",
       "4               -1             -1                           20   \n",
       "...            ...            ...                          ...   \n",
       "238186          -1             -1                           20   \n",
       "238187          -1             -1                           20   \n",
       "238188          -1             -1                           32   \n",
       "238189          -1             -1                           47   \n",
       "238190          -1             -1                           32   \n",
       "\n",
       "        individual_id_count  \n",
       "0                         1  \n",
       "1                         1  \n",
       "2                         1  \n",
       "3                         1  \n",
       "4                         1  \n",
       "...                     ...  \n",
       "238186                    1  \n",
       "238187                    1  \n",
       "238188                    1  \n",
       "238189                    1  \n",
       "238190                    1  \n",
       "\n",
       "[238191 rows x 8 columns]"
      ]
     },
     "execution_count": 109,
     "metadata": {},
     "output_type": "execute_result"
    }
   ],
   "source": [
    "individuals_test_agg.columns = ['_'.join(col).strip() for col in individuals_test_agg.columns.values]\n",
    "individuals_test_agg.reset_index(inplace=True)\n",
    "individuals_test_agg"
   ]
  },
  {
   "cell_type": "code",
   "execution_count": 110,
   "metadata": {},
   "outputs": [],
   "source": [
    "cat__individual_cols = [\n",
    "    'housing_situation_2_label',\n",
    "    'individual_role',\n",
    "    'individual_role_2_label',\n",
    "    'marital_status_label'\n",
    "]\n"
   ]
  },
  {
   "cell_type": "code",
   "execution_count": 111,
   "metadata": {},
   "outputs": [],
   "source": [
    "def get_mode(series):\n",
    "    mode = series.mode()\n",
    "    return mode.iloc[0] if not mode.empty else None\n"
   ]
  },
  {
   "cell_type": "code",
   "execution_count": null,
   "metadata": {},
   "outputs": [],
   "source": [
    "## Extract and merge cat individuals columns to request_\n",
    "cat__individual_train_cols = pd.DataFrame({'request_id': individuals_train['request_id'].unique()})\n",
    "cat__individual_test_cols= pd.DataFrame({'request_id': individuals_test['request_id'].unique()})\n",
    "\n",
    "## Extract and merge cat_individuals_train_cols by grouping with request_id\n",
    "for col in cat__individual_cols:\n",
    "    col_mode = individuals_train.groupby('request_id')[col].agg(get_mode).reset_index()\n",
    "    col_mode.rename(columns={col: f'{col}_mode'}, inplace=True)\n",
    "    cat__individual_train_cols = cat__individual_train_cols.merge(col_mode, on='request_id', how='left')\n",
    "## Extract and merge cat_individuals_test_cols by grouping with request_id\n",
    "for col in cat__individual_cols:\n",
    "    col_mode = individuals_test.groupby('request_id')[col].agg(get_mode).reset_index()\n",
    "    col_mode.rename(columns={col: f'{col}_mode'}, inplace=True)\n",
    "    cat__individual_test_cols = cat__individual_test_cols.merge(col_mode, on='request_id', how='left')\n",
    "\n"
   ]
  },
  {
   "cell_type": "markdown",
   "metadata": {},
   "source": [
    "#### Merge "
   ]
  },
  {
   "cell_type": "code",
   "execution_count": null,
   "metadata": {},
   "outputs": [],
   "source": [
    "## df train\n",
    "df_train = requests_train.merge(cat__individual_train_cols, on=\"request_id\", how='left')\n",
    "df_train = df_train.merge(individuals_train_agg, on=\"request_id\", how='left')\n"
   ]
  },
  {
   "cell_type": "code",
   "execution_count": null,
   "metadata": {},
   "outputs": [],
   "source": [
    "## df_test\n",
    "df_test = requests_test.merge(cat__individual_test_cols, on=\"request_id\", how='left')\n",
    "df_test = df_test.merge(individuals_test_agg, on=\"request_id\", how='left')"
   ]
  },
  {
   "cell_type": "code",
   "execution_count": null,
   "metadata": {},
   "outputs": [
    {
     "name": "stdout",
     "output_type": "stream",
     "text": [
      "Shape of df_train is :(238191, 35)\n",
      "Shape of df_test is :(59548, 35)\n"
     ]
    }
   ],
   "source": [
    "print(f\"Shape of df_train is :{df_train.shape}\")\n",
    "print(f\"Shape of df_test is :{df_test.shape}\")\n"
   ]
  },
  {
   "cell_type": "code",
   "execution_count": null,
   "metadata": {},
   "outputs": [],
   "source": [
    "assert df_train.shape[0] == requests_train.shape[0], \"Shape has changed!\"\n",
    "assert df_test.shape[0] == requests_test.shape[0], \"Shape has changed!\""
   ]
  },
  {
   "cell_type": "code",
   "execution_count": null,
   "metadata": {},
   "outputs": [
    {
     "data": {
      "text/html": [
       "<div>\n",
       "<style scoped>\n",
       "    .dataframe tbody tr th:only-of-type {\n",
       "        vertical-align: middle;\n",
       "    }\n",
       "\n",
       "    .dataframe tbody tr th {\n",
       "        vertical-align: top;\n",
       "    }\n",
       "\n",
       "    .dataframe thead th {\n",
       "        text-align: right;\n",
       "    }\n",
       "</style>\n",
       "<table border=\"1\" class=\"dataframe\">\n",
       "  <thead>\n",
       "    <tr style=\"text-align: right;\">\n",
       "      <th></th>\n",
       "      <th>child_situation</th>\n",
       "      <th>district</th>\n",
       "      <th>granted_number_of_nights</th>\n",
       "      <th>group_composition_id</th>\n",
       "      <th>housing_situation_id</th>\n",
       "      <th>number_of_underage</th>\n",
       "      <th>age_mean</th>\n",
       "      <th>age_min</th>\n",
       "      <th>age_max</th>\n",
       "      <th>gender_sum</th>\n",
       "      <th>pregnancy_sum</th>\n",
       "      <th>housing_situation_2_id_mean</th>\n",
       "      <th>individual_id_count</th>\n",
       "    </tr>\n",
       "  </thead>\n",
       "  <tbody>\n",
       "    <tr>\n",
       "      <th>count</th>\n",
       "      <td>238191.000000</td>\n",
       "      <td>238191.000000</td>\n",
       "      <td>238191.000000</td>\n",
       "      <td>238191.000000</td>\n",
       "      <td>238191.000000</td>\n",
       "      <td>238191.000000</td>\n",
       "      <td>238191.000000</td>\n",
       "      <td>238191.000000</td>\n",
       "      <td>238191.000000</td>\n",
       "      <td>238191.000000</td>\n",
       "      <td>238191.000000</td>\n",
       "      <td>238191.000000</td>\n",
       "      <td>238191.000000</td>\n",
       "    </tr>\n",
       "    <tr>\n",
       "      <th>mean</th>\n",
       "      <td>-0.322304</td>\n",
       "      <td>7078.893573</td>\n",
       "      <td>0.689199</td>\n",
       "      <td>27.939679</td>\n",
       "      <td>121.939872</td>\n",
       "      <td>-0.575530</td>\n",
       "      <td>40.147342</td>\n",
       "      <td>36.575442</td>\n",
       "      <td>44.116696</td>\n",
       "      <td>0.978815</td>\n",
       "      <td>0.046916</td>\n",
       "      <td>23.162172</td>\n",
       "      <td>1.612710</td>\n",
       "    </tr>\n",
       "    <tr>\n",
       "      <th>std</th>\n",
       "      <td>4.086288</td>\n",
       "      <td>46551.615070</td>\n",
       "      <td>0.769985</td>\n",
       "      <td>28.893907</td>\n",
       "      <td>83.223893</td>\n",
       "      <td>0.860536</td>\n",
       "      <td>31.317484</td>\n",
       "      <td>33.125030</td>\n",
       "      <td>30.992719</td>\n",
       "      <td>0.711021</td>\n",
       "      <td>0.211916</td>\n",
       "      <td>7.028155</td>\n",
       "      <td>1.194449</td>\n",
       "    </tr>\n",
       "    <tr>\n",
       "      <th>min</th>\n",
       "      <td>-1.000000</td>\n",
       "      <td>1.000000</td>\n",
       "      <td>0.000000</td>\n",
       "      <td>10.000000</td>\n",
       "      <td>10.000000</td>\n",
       "      <td>-1.000000</td>\n",
       "      <td>6.000000</td>\n",
       "      <td>4.000000</td>\n",
       "      <td>6.000000</td>\n",
       "      <td>-1.000000</td>\n",
       "      <td>-1.000000</td>\n",
       "      <td>20.000000</td>\n",
       "      <td>1.000000</td>\n",
       "    </tr>\n",
       "    <tr>\n",
       "      <th>25%</th>\n",
       "      <td>-1.000000</td>\n",
       "      <td>35.000000</td>\n",
       "      <td>0.000000</td>\n",
       "      <td>10.000000</td>\n",
       "      <td>10.000000</td>\n",
       "      <td>-1.000000</td>\n",
       "      <td>28.000000</td>\n",
       "      <td>25.000000</td>\n",
       "      <td>33.000000</td>\n",
       "      <td>1.000000</td>\n",
       "      <td>0.000000</td>\n",
       "      <td>20.000000</td>\n",
       "      <td>1.000000</td>\n",
       "    </tr>\n",
       "    <tr>\n",
       "      <th>50%</th>\n",
       "      <td>-1.000000</td>\n",
       "      <td>61.000000</td>\n",
       "      <td>1.000000</td>\n",
       "      <td>10.000000</td>\n",
       "      <td>170.000000</td>\n",
       "      <td>-1.000000</td>\n",
       "      <td>36.000000</td>\n",
       "      <td>35.000000</td>\n",
       "      <td>41.000000</td>\n",
       "      <td>1.000000</td>\n",
       "      <td>0.000000</td>\n",
       "      <td>20.000000</td>\n",
       "      <td>1.000000</td>\n",
       "    </tr>\n",
       "    <tr>\n",
       "      <th>75%</th>\n",
       "      <td>-1.000000</td>\n",
       "      <td>81.000000</td>\n",
       "      <td>1.000000</td>\n",
       "      <td>40.000000</td>\n",
       "      <td>200.000000</td>\n",
       "      <td>0.000000</td>\n",
       "      <td>48.000000</td>\n",
       "      <td>47.000000</td>\n",
       "      <td>51.000000</td>\n",
       "      <td>1.000000</td>\n",
       "      <td>0.000000</td>\n",
       "      <td>20.000000</td>\n",
       "      <td>2.000000</td>\n",
       "    </tr>\n",
       "    <tr>\n",
       "      <th>max</th>\n",
       "      <td>70.000000</td>\n",
       "      <td>315842.000000</td>\n",
       "      <td>3.000000</td>\n",
       "      <td>120.000000</td>\n",
       "      <td>220.000000</td>\n",
       "      <td>14.000000</td>\n",
       "      <td>2024.000000</td>\n",
       "      <td>2024.000000</td>\n",
       "      <td>2024.000000</td>\n",
       "      <td>8.000000</td>\n",
       "      <td>2.000000</td>\n",
       "      <td>47.000000</td>\n",
       "      <td>12.000000</td>\n",
       "    </tr>\n",
       "  </tbody>\n",
       "</table>\n",
       "</div>"
      ],
      "text/plain": [
       "       child_situation       district  granted_number_of_nights  \\\n",
       "count    238191.000000  238191.000000             238191.000000   \n",
       "mean         -0.322304    7078.893573                  0.689199   \n",
       "std           4.086288   46551.615070                  0.769985   \n",
       "min          -1.000000       1.000000                  0.000000   \n",
       "25%          -1.000000      35.000000                  0.000000   \n",
       "50%          -1.000000      61.000000                  1.000000   \n",
       "75%          -1.000000      81.000000                  1.000000   \n",
       "max          70.000000  315842.000000                  3.000000   \n",
       "\n",
       "       group_composition_id  housing_situation_id  number_of_underage  \\\n",
       "count         238191.000000         238191.000000       238191.000000   \n",
       "mean              27.939679            121.939872           -0.575530   \n",
       "std               28.893907             83.223893            0.860536   \n",
       "min               10.000000             10.000000           -1.000000   \n",
       "25%               10.000000             10.000000           -1.000000   \n",
       "50%               10.000000            170.000000           -1.000000   \n",
       "75%               40.000000            200.000000            0.000000   \n",
       "max              120.000000            220.000000           14.000000   \n",
       "\n",
       "            age_mean        age_min        age_max     gender_sum  \\\n",
       "count  238191.000000  238191.000000  238191.000000  238191.000000   \n",
       "mean       40.147342      36.575442      44.116696       0.978815   \n",
       "std        31.317484      33.125030      30.992719       0.711021   \n",
       "min         6.000000       4.000000       6.000000      -1.000000   \n",
       "25%        28.000000      25.000000      33.000000       1.000000   \n",
       "50%        36.000000      35.000000      41.000000       1.000000   \n",
       "75%        48.000000      47.000000      51.000000       1.000000   \n",
       "max      2024.000000    2024.000000    2024.000000       8.000000   \n",
       "\n",
       "       pregnancy_sum  housing_situation_2_id_mean  individual_id_count  \n",
       "count  238191.000000                238191.000000        238191.000000  \n",
       "mean        0.046916                    23.162172             1.612710  \n",
       "std         0.211916                     7.028155             1.194449  \n",
       "min        -1.000000                    20.000000             1.000000  \n",
       "25%         0.000000                    20.000000             1.000000  \n",
       "50%         0.000000                    20.000000             1.000000  \n",
       "75%         0.000000                    20.000000             2.000000  \n",
       "max         2.000000                    47.000000            12.000000  "
      ]
     },
     "execution_count": 92,
     "metadata": {},
     "output_type": "execute_result"
    }
   ],
   "source": [
    "df_train.describe()"
   ]
  },
  {
   "cell_type": "code",
   "execution_count": null,
   "metadata": {},
   "outputs": [],
   "source": [
    "data_train = df_train.copy()\n",
    "data_test = df_test.copy()"
   ]
  },
  {
   "cell_type": "code",
   "execution_count": null,
   "metadata": {},
   "outputs": [],
   "source": [
    "corrmatrix = data_train.corr(method=\"kendall\")\n",
    "# Generating a correlation matrix\n",
    "plot_correlation_matrix(corrmatrix, figsize=(10, 10))"
   ]
  },
  {
   "cell_type": "code",
   "execution_count": 119,
   "metadata": {},
   "outputs": [
    {
     "data": {
      "text/plain": [
       "<AxesSubplot:xlabel='granted_number_of_nights', ylabel='count'>"
      ]
     },
     "execution_count": 119,
     "metadata": {},
     "output_type": "execute_result"
    },
    {
     "data": {
      "image/png": "[encoded data removed]",
      "text/plain": [
       "<Figure size 432x288 with 1 Axes>"
      ]
     },
     "metadata": {
      "needs_background": "light"
     },
     "output_type": "display_data"
    }
   ],
   "source": [
    "import seaborn as sns\n",
    "sns.countplot(data_train[\"granted_number_of_nights\"], data=data_train)"
   ]
  },
  {
   "cell_type": "markdown",
   "metadata": {},
   "source": [
    "there is a significant imbalance, with class 0 clearly dominating the rest of the classes "
   ]
  },
  {
   "cell_type": "markdown",
   "metadata": {},
   "source": [
    "## Data cleaning"
   ]
  },
  {
   "cell_type": "markdown",
   "metadata": {},
   "source": [
    "### Remove null columns >= 95%"
   ]
  },
  {
   "cell_type": "markdown",
   "metadata": {},
   "source": [
    "#### train data"
   ]
  },
  {
   "cell_type": "code",
   "execution_count": null,
   "metadata": {},
   "outputs": [],
   "source": [
    "null_vals = [None, \"None\", pd.NaT, float('nan'), \"Nat\"]\n",
    "plot_null_rates(data_train, null_vals)"
   ]
  },
  {
   "cell_type": "code",
   "execution_count": 126,
   "metadata": {},
   "outputs": [],
   "source": [
    "columns_id_to_drop = [\"request_id\",\"group_id\",\"group_main_requester_id\",\"request_backoffice_creator_id\",\"social_situation_id\"]"
   ]
  },
  {
   "cell_type": "code",
   "execution_count": 123,
   "metadata": {},
   "outputs": [],
   "source": [
    "null_rates = null_rates(null_matrix(data_train, null_vals))\n",
    "threshold = 95 #%"
   ]
  },
  {
   "cell_type": "code",
   "execution_count": 124,
   "metadata": {},
   "outputs": [
    {
     "name": "stdout",
     "output_type": "stream",
     "text": [
      "Dropped columns {'victim_of_violence_type'}\n"
     ]
    }
   ],
   "source": [
    "columns_to_drop = null_rates.index[np.where(null_rates>=threshold)[0]]\n",
    "data_train.drop(columns=columns_to_drop, inplace=True)\n",
    "print(f\"Dropped columns {set(columns_to_drop)}\")"
   ]
  },
  {
   "cell_type": "code",
   "execution_count": 127,
   "metadata": {},
   "outputs": [
    {
     "data": {
      "text/plain": [
       "(238191, 29)"
      ]
     },
     "execution_count": 127,
     "metadata": {},
     "output_type": "execute_result"
    }
   ],
   "source": [
    "data_train.drop(columns=columns_id_to_drop, inplace=True)\n",
    "data_train.shape"
   ]
  },
  {
   "cell_type": "markdown",
   "metadata": {},
   "source": [
    "#### test data"
   ]
  },
  {
   "cell_type": "code",
   "execution_count": null,
   "metadata": {},
   "outputs": [
    {
     "data": {
      "text/plain": [
       "(59548, 30)"
      ]
     },
     "execution_count": 138,
     "metadata": {},
     "output_type": "execute_result"
    }
   ],
   "source": [
    "data_test.drop(columns=columns_id_to_drop, inplace=True)\n",
    "data_test.drop(columns='victim_of_violence_type', inplace=True)\n",
    "data_test.shape"
   ]
  },
  {
   "cell_type": "markdown",
   "metadata": {},
   "source": [
    "### Remove dulicates"
   ]
  },
  {
   "cell_type": "code",
   "execution_count": 141,
   "metadata": {},
   "outputs": [
    {
     "data": {
      "text/plain": [
       "0         False\n",
       "1         False\n",
       "2         False\n",
       "3         False\n",
       "4         False\n",
       "          ...  \n",
       "238186    False\n",
       "238187    False\n",
       "238188    False\n",
       "238189    False\n",
       "238190    False\n",
       "Length: 238191, dtype: bool"
      ]
     },
     "execution_count": 141,
     "metadata": {},
     "output_type": "execute_result"
    }
   ],
   "source": [
    "data_train.duplicated()"
   ]
  },
  {
   "cell_type": "code",
   "execution_count": 142,
   "metadata": {},
   "outputs": [
    {
     "data": {
      "text/plain": [
       "0        False\n",
       "1        False\n",
       "2        False\n",
       "3        False\n",
       "4        False\n",
       "         ...  \n",
       "59543    False\n",
       "59544    False\n",
       "59545    False\n",
       "59546    False\n",
       "59547    False\n",
       "Length: 59548, dtype: bool"
      ]
     },
     "execution_count": 142,
     "metadata": {},
     "output_type": "execute_result"
    }
   ],
   "source": [
    "data_test.duplicated()"
   ]
  },
  {
   "cell_type": "code",
   "execution_count": 143,
   "metadata": {},
   "outputs": [
    {
     "data": {
      "text/plain": [
       "'Number of duplicates removed : 28'"
      ]
     },
     "execution_count": 143,
     "metadata": {},
     "output_type": "execute_result"
    }
   ],
   "source": [
    "## In case of existing duplicates \n",
    "size_before_removing = data_train.shape[0]\n",
    "data_train = remove_duplicates(data_train)\n",
    "data_train.reset_index(inplace=True, drop=True)\n",
    "f'Number of duplicates removed : {size_before_removing - data_train.shape[0]}'"
   ]
  },
  {
   "cell_type": "markdown",
   "metadata": {},
   "source": [
    "### get numerical cols and categorical cols"
   ]
  },
  {
   "cell_type": "code",
   "execution_count": 144,
   "metadata": {},
   "outputs": [
    {
     "data": {
      "text/plain": [
       "request_id                       object\n",
       "animal_presence                  object\n",
       "answer_creation_date             object\n",
       "child_situation                   int64\n",
       "child_to_come                    object\n",
       "district                          int64\n",
       "granted_number_of_nights          int64\n",
       "group_composition_id              int64\n",
       "group_composition_label          object\n",
       "group_creation_date              object\n",
       "group_id                         object\n",
       "group_main_requester_id          object\n",
       "group_type                       object\n",
       "housing_situation_id              int64\n",
       "housing_situation_label          object\n",
       "long_term_housing_request        object\n",
       "number_of_underage                int64\n",
       "request_backoffice_creator_id    object\n",
       "request_creation_date            object\n",
       "requester_type                   object\n",
       "social_situation_id              object\n",
       "town                             object\n",
       "victim_of_violence               object\n",
       "victim_of_violence_type          object\n",
       "dtype: object"
      ]
     },
     "execution_count": 144,
     "metadata": {},
     "output_type": "execute_result"
    }
   ],
   "source": [
    "requests_train.dtypes"
   ]
  },
  {
   "cell_type": "code",
   "execution_count": 145,
   "metadata": {},
   "outputs": [],
   "source": [
    "def get_date_columns(df):\n",
    "\n",
    "    dates = df.select_dtypes(include=[np.datetime64]).columns\n",
    "\n",
    "    return dates"
   ]
  },
  {
   "cell_type": "code",
   "execution_count": 146,
   "metadata": {},
   "outputs": [
    {
     "data": {
      "text/plain": [
       "Index([], dtype='object')"
      ]
     },
     "execution_count": 146,
     "metadata": {},
     "output_type": "execute_result"
    }
   ],
   "source": [
    "dates_cols = get_date_columns(data_train) \n",
    "dates_cols"
   ]
  },
  {
   "cell_type": "code",
   "execution_count": 148,
   "metadata": {},
   "outputs": [
    {
     "name": "stderr",
     "output_type": "stream",
     "text": [
      "c:\\dev\\projects\\ai-notebooks\\.venv\\lib\\site-packages\\pandas\\core\\indexing.py:964: SettingWithCopyWarning: \n",
      "A value is trying to be set on a copy of a slice from a DataFrame.\n",
      "Try using .loc[row_indexer,col_indexer] = value instead\n",
      "\n",
      "See the caveats in the documentation: https://pandas.pydata.org/pandas-docs/stable/user_guide/indexing.html#returning-a-view-versus-a-copy\n",
      "  self.obj[item] = s\n"
     ]
    }
   ],
   "source": [
    "# convert date cols to datetime type \n",
    "dates_col = data_train[[\"answer_creation_date\",\"group_creation_date\",\"request_creation_date\"]]\n",
    "dates_col_idx = np.array([int(np.where(data_train.columns ==c)[0]) for c in dates_col])\n",
    "data_train.iloc[:, dates_col_idx] = data_train.iloc[:, dates_col_idx].apply(pd.to_datetime)\n",
    "data_test.iloc[:, dates_col_idx] = data_test.iloc[:, dates_col_idx].apply(pd.to_datetime)"
   ]
  },
  {
   "cell_type": "code",
   "execution_count": 149,
   "metadata": {},
   "outputs": [
    {
     "name": "stdout",
     "output_type": "stream",
     "text": [
      "NUMERICAL :  Index(['child_situation', 'district', 'granted_number_of_nights',\n",
      "       'group_composition_id', 'housing_situation_id', 'number_of_underage',\n",
      "       'age_mean', 'age_min', 'age_max', 'gender_sum', 'pregnancy_sum',\n",
      "       'housing_situation_2_id_mean', 'individual_id_count'],\n",
      "      dtype='object')\n",
      "\n",
      "----------\n",
      "CATEGORICAL :  Index(['animal_presence', 'child_to_come', 'group_composition_label',\n",
      "       'group_type', 'housing_situation_label', 'long_term_housing_request',\n",
      "       'requester_type', 'town', 'victim_of_violence',\n",
      "       'housing_situation_2_label_mode', 'individual_role_mode',\n",
      "       'individual_role_2_label_mode', 'marital_status_label_mode'],\n",
      "      dtype='object')\n",
      "\n",
      "----------\n",
      "DATES :  Index(['answer_creation_date', 'group_creation_date', 'request_creation_date'], dtype='object')\n",
      "13\n"
     ]
    }
   ],
   "source": [
    "num_col, cat_col, dates_col = columns_by_type(data_train)\n",
    "\n",
    "print(\"NUMERICAL : \", num_col)\n",
    "print(\"\\n----------\\nCATEGORICAL : \", cat_col)\n",
    "print(\"\\n----------\\nDATES : \", dates_col)\n",
    "print(len(cat_col))"
   ]
  },
  {
   "cell_type": "markdown",
   "metadata": {},
   "source": [
    "#### replace the null values "
   ]
  },
  {
   "cell_type": "code",
   "execution_count": 150,
   "metadata": {},
   "outputs": [],
   "source": [
    "# Everything not specified previously is treated here\n",
    "data_train = fill_na(data_train, numerical_filling=0, categorical_filling=\"INCONNU\", date_filling=pd.NaT)\n",
    "data_test = fill_na(data_test, numerical_filling=0, categorical_filling=\"INCONNU\", date_filling=pd.NaT)"
   ]
  },
  {
   "cell_type": "code",
   "execution_count": null,
   "metadata": {},
   "outputs": [],
   "source": [
    "# plot the null values ratio after replacing\n",
    "plot_null_rates(data_train, null_vals)"
   ]
  },
  {
   "cell_type": "markdown",
   "metadata": {},
   "source": [
    "### Outliers\n",
    "I've decided that it's not necessary to remove the outliers because in our case, the numerical data contains codes that are a translation of a categorical value, e.g. for the characteristic individual_role_2_id = 30 this means that the person is isolated when the value is 70 this means that the person is a child. "
   ]
  },
  {
   "cell_type": "code",
   "execution_count": 152,
   "metadata": {},
   "outputs": [],
   "source": [
    "# drop dates cols and town\n",
    "data_train.drop(columns=dates_col, inplace= True)\n",
    "data_test.drop(columns=dates_col, inplace= True)\n",
    "data_train.drop(columns=[\"town\"], inplace= True)\n",
    "data_test.drop(columns=[\"town\"], inplace= True)"
   ]
  },
  {
   "cell_type": "markdown",
   "metadata": {},
   "source": [
    "## Data preprocessing"
   ]
  },
  {
   "cell_type": "code",
   "execution_count": null,
   "metadata": {},
   "outputs": [],
   "source": [
    "y_train = data_train[target]\n",
    "X_train = data_train.copy()\n",
    "X_train.drop(columns=target, inplace=True)"
   ]
  },
  {
   "cell_type": "code",
   "execution_count": 154,
   "metadata": {},
   "outputs": [],
   "source": [
    "y_test =data_test[target]\n",
    "X_test = data_test.copy()\n",
    "X_test.drop(columns=target, inplace=True)"
   ]
  },
  {
   "cell_type": "code",
   "execution_count": 155,
   "metadata": {},
   "outputs": [
    {
     "name": "stdout",
     "output_type": "stream",
     "text": [
      "Shape of X_train is :(238163, 24)\n",
      "Shape of y_train is :(238163,)\n",
      "Shape of X_test is :(59548, 24)\n",
      "Shape of y_test is :(59548,)\n"
     ]
    }
   ],
   "source": [
    "print(f\"Shape of X_train is :{X_train.shape}\")\n",
    "print(f\"Shape of y_train is :{y_train.shape}\")\n",
    "print(f\"Shape of X_test is :{X_test.shape}\")\n",
    "print(f\"Shape of y_test is :{y_test.shape}\")"
   ]
  },
  {
   "cell_type": "code",
   "execution_count": 157,
   "metadata": {},
   "outputs": [],
   "source": [
    "num_col, cat_col, dates_cols= columns_by_type(X_train)\n",
    "cat_col = [col for col in cat_col if col not in ['gender', 'pregnancy', 'victim_of_violence','animal_presence','child_to_come','long_term_housing_request','group_type']]\n",
    "num_col_idx = np.array([int(np.where(X_train.columns == c)[0]) for c in num_col])\n",
    "cat_col_idx = np.array([int(np.where(X_train.columns == c)[0]) for c in cat_col])"
   ]
  },
  {
   "cell_type": "markdown",
   "metadata": {},
   "source": [
    "### Data preprocessing"
   ]
  },
  {
   "cell_type": "markdown",
   "metadata": {},
   "source": [
    "#### Numerical features Scaling"
   ]
  },
  {
   "cell_type": "code",
   "execution_count": 202,
   "metadata": {},
   "outputs": [],
   "source": [
    "x_train = X_train.copy()\n",
    "x_test = X_test.copy()"
   ]
  },
  {
   "cell_type": "markdown",
   "metadata": {},
   "source": [
    "#### Categorical features embedding"
   ]
  },
  {
   "cell_type": "code",
   "execution_count": 203,
   "metadata": {},
   "outputs": [
    {
     "data": {
      "text/plain": [
       "-1    165550\n",
       " 0     60367\n",
       " 1     12246\n",
       "Name: long_term_housing_request, dtype: int64"
      ]
     },
     "execution_count": 203,
     "metadata": {},
     "output_type": "execute_result"
    }
   ],
   "source": [
    "\n",
    "# convert long_term_housing_request column\n",
    "x_train[\"long_term_housing_request\"] =x_train[\"long_term_housing_request\"].astype(str).str.lower().map({\"f\":0, \"t\": 1})\n",
    "x_test[\"long_term_housing_request\"] = x_test[\"long_term_housing_request\"].astype(str).str.lower().map({\"f\":0, \"t\": 1})\n",
    "x_train[\"long_term_housing_request\"] = x_train[\"long_term_housing_request\"].fillna(-1).astype(int)\n",
    "x_test[\"long_term_housing_request\"] = x_test[\"long_term_housing_request\"].fillna(-1).astype(int)\n",
    "x_train[\"long_term_housing_request\"].value_counts()"
   ]
  },
  {
   "cell_type": "code",
   "execution_count": 204,
   "metadata": {},
   "outputs": [
    {
     "data": {
      "text/plain": [
       "-1    145944\n",
       " 0     85861\n",
       " 1      6358\n",
       "Name: child_to_come, dtype: int64"
      ]
     },
     "execution_count": 204,
     "metadata": {},
     "output_type": "execute_result"
    }
   ],
   "source": [
    "# convert child_to_come column\n",
    "x_train[\"child_to_come\"] =x_train[\"child_to_come\"].astype(str).str.lower().map({\"f\":0, \"t\": 1})\n",
    "x_test[\"child_to_come\"] =x_test[\"child_to_come\"].astype(str).str.lower().map({\"f\":0, \"t\": 1})\n",
    "x_train[\"child_to_come\"] = x_train[\"child_to_come\"].fillna(-1).astype(int)\n",
    "x_test[\"child_to_come\"] = x_test[\"child_to_come\"].fillna(-1).astype(int)\n",
    "x_train[\"child_to_come\"].value_counts()\n"
   ]
  },
  {
   "cell_type": "code",
   "execution_count": 205,
   "metadata": {},
   "outputs": [
    {
     "data": {
      "text/plain": [
       "0    237500\n",
       "1       663\n",
       "Name: animal_presence, dtype: int64"
      ]
     },
     "execution_count": 205,
     "metadata": {},
     "output_type": "execute_result"
    }
   ],
   "source": [
    "# convert animal_presence column\n",
    "x_train[\"animal_presence\"] =x_train[\"animal_presence\"].astype(str).str.lower().map({\"f\":0, \"t\": 1})\n",
    "x_test[\"animal_presence\"] =x_test[\"animal_presence\"].astype(str).str.lower().map({\"f\":0, \"t\": 1})\n",
    "x_train[\"animal_presence\"] = x_train[\"animal_presence\"].fillna(-1).astype(int)\n",
    "x_test[\"animal_presence\"] = x_test[\"animal_presence\"].fillna(-1).astype(int)\n",
    "x_train[\"animal_presence\"].value_counts()\n"
   ]
  },
  {
   "cell_type": "code",
   "execution_count": 206,
   "metadata": {},
   "outputs": [
    {
     "data": {
      "text/plain": [
       "0    171038\n",
       "1     67125\n",
       "Name: group_type, dtype: int64"
      ]
     },
     "execution_count": 206,
     "metadata": {},
     "output_type": "execute_result"
    }
   ],
   "source": [
    "## convert group_type column\n",
    "x_train[\"group_type\"] = x_train[\"group_type\"].astype(str).str.lower().map({\"group\": 1, \"individual\": 0})\n",
    "x_test[\"group_type\"] = x_test[\"group_type\"].astype(str).str.lower().map({\"group\": 1, \"individual\": 0})\n",
    "x_train[\"group_type\"] = x_train[\"group_type\"].fillna(-1).astype(int)\n",
    "x_test[\"group_type\"] = x_test[\"group_type\"].fillna(-1).astype(int)\n",
    "x_train[\"group_type\"].value_counts()"
   ]
  },
  {
   "cell_type": "code",
   "execution_count": 207,
   "metadata": {},
   "outputs": [
    {
     "data": {
      "text/plain": [
       "0    233853\n",
       "1      4310\n",
       "Name: victim_of_violence, dtype: int64"
      ]
     },
     "execution_count": 207,
     "metadata": {},
     "output_type": "execute_result"
    }
   ],
   "source": [
    "# convert victim_of_violence column\n",
    "x_train[\"victim_of_violence\"] =x_train[\"victim_of_violence\"].astype(str).str.lower().map({\"f\":0, \"t\": 1})\n",
    "x_test[\"victim_of_violence\"] =x_test[\"victim_of_violence\"].astype(str).str.lower().map({\"f\":0, \"t\": 1})\n",
    "x_train[\"victim_of_violence\"] = x_train[\"victim_of_violence\"].fillna(-1).astype(int)\n",
    "x_test[\"victim_of_violence\"] = x_test[\"victim_of_violence\"].fillna(-1).astype(int)\n",
    "x_train[\"victim_of_violence\"].value_counts()\n"
   ]
  },
  {
   "cell_type": "markdown",
   "metadata": {},
   "source": [
    "#### Apply onehot_encoding"
   ]
  },
  {
   "cell_type": "code",
   "execution_count": 208,
   "metadata": {},
   "outputs": [
    {
     "name": "stdout",
     "output_type": "stream",
     "text": [
      "Valuers unique par colonnes :\n",
      " group_composition_label           12\n",
      "housing_situation_label           22\n",
      "requester_type                     3\n",
      "housing_situation_2_label_mode    28\n",
      "individual_role_mode               8\n",
      "individual_role_2_label_mode       9\n",
      "marital_status_label_mode          9\n",
      "dtype: int64\n"
     ]
    }
   ],
   "source": [
    "print(f\"Valuers unique par colonnes :\\n {x_train[cat_col].nunique()}\")"
   ]
  },
  {
   "cell_type": "code",
   "execution_count": 209,
   "metadata": {},
   "outputs": [],
   "source": [
    "from sklearn.preprocessing import OneHotEncoder\n",
    "\n",
    "encoder = OneHotEncoder(handle_unknown=\"ignore\", sparse=False)\n",
    "X_train_encoded_cat = encoder.fit_transform(x_train[cat_col])\n",
    "X_test_encoded_cat = encoder.fit_transform(x_test[cat_col])"
   ]
  },
  {
   "cell_type": "code",
   "execution_count": 210,
   "metadata": {},
   "outputs": [
    {
     "name": "stdout",
     "output_type": "stream",
     "text": [
      "Shape après encodage - X_train_encoded_cat: (238163, 91)\n",
      "Shape après encodage - X_test_encoded_cat: (59548, 91)\n"
     ]
    }
   ],
   "source": [
    "print(f\"Shape après encodage - X_train_encoded_cat: {X_train_encoded_cat.shape}\")\n",
    "print(f\"Shape après encodage - X_test_encoded_cat: {X_test_encoded_cat.shape}\")"
   ]
  },
  {
   "cell_type": "code",
   "execution_count": null,
   "metadata": {},
   "outputs": [],
   "source": [
    "X_train_encoded_cat = pd.DataFrame(X_train_encoded_cat, columns= encoder.get_feature_names(cat_col))\n",
    "X_test_encoded_cat = pd.DataFrame(X_test_encoded_cat, columns= encoder.get_feature_names(cat_col))\n",
    "# Remettre les index alignés\n",
    "X_train_encoded_cat.index = x_train.index\n",
    "X_test_encoded_cat.index = x_test.index\n",
    "\n",
    "# Supprimer les anciennes colonnes et ajouter les nouvelles encodées\n",
    "X_train_new = x_train.drop(columns=cat_col).reset_index(drop=True)\n",
    "X_test_new = x_test.drop(columns=cat_col).reset_index(drop=True)\n",
    "\n",
    "X_train_= pd.concat([X_train_new, X_train_encoded_cat], axis=1).astype(int)\n",
    "X_test_ = pd.concat([X_test_new, X_test_encoded_cat], axis=1).astype(int)\n"
   ]
  },
  {
   "cell_type": "code",
   "execution_count": 219,
   "metadata": {},
   "outputs": [],
   "source": [
    "scaler = StandardScaler()\n",
    "scaler.fit(X_train_)\n",
    "X_train_scaled = scaler.transform(X_train_)\n",
    "X_test_scaled = scaler.transform(X_test_)"
   ]
  },
  {
   "cell_type": "code",
   "execution_count": 220,
   "metadata": {},
   "outputs": [],
   "source": [
    "X_train_scaled = pd.DataFrame(\n",
    "    X_train_scaled,\n",
    "    columns=X_train_.columns,\n",
    "    index=X_train_.index\n",
    ")\n",
    "X_test_scaled = pd.DataFrame(\n",
    "    X_test_scaled,\n",
    "    columns=X_test_.columns,\n",
    "    index=X_test_.index\n",
    ")"
   ]
  },
  {
   "cell_type": "code",
   "execution_count": 221,
   "metadata": {},
   "outputs": [
    {
     "name": "stdout",
     "output_type": "stream",
     "text": [
      "Shape of X_train is :(238163, 108)\n",
      "Shape of y_train is :(238163,)\n",
      "Shape of X_test is :(59548, 108)\n",
      "Shape of y_test is :(59548,)\n"
     ]
    }
   ],
   "source": [
    "print(f\"Shape of X_train is :{X_train_scaled.shape}\")\n",
    "print(f\"Shape of y_train is :{y_train.shape}\")\n",
    "print(f\"Shape of X_test is :{X_test_scaled.shape}\")\n",
    "print(f\"Shape of y_test is :{y_test.shape}\")"
   ]
  },
  {
   "cell_type": "code",
   "execution_count": 222,
   "metadata": {},
   "outputs": [],
   "source": [
    "# export data\n",
    "X_train_scaled.to_csv(\"data/cleaned_data/X_train.csv\", index=False, encoding='utf-8')\n",
    "X_test_scaled.to_csv(\"data/cleaned_data/X_test.csv\", index=False, encoding='utf-8')\n",
    "y_train.to_csv(\"data/cleaned_data/y_train.csv\", index=False, encoding='utf-8')\n",
    "y_test.to_csv(\"data/cleaned_data/y_test.csv\", index=False, encoding='utf-8')"
   ]
  },
  {
   "cell_type": "code",
   "execution_count": null,
   "metadata": {},
   "outputs": [],
   "source": []
  }
 ],
 "metadata": {
  "kernelspec": {
   "display_name": ".venv",
   "language": "python",
   "name": "python3"
  },
  "language_info": {
   "codemirror_mode": {
    "name": "ipython",
    "version": 3
   },
   "file_extension": ".py",
   "mimetype": "text/x-python",
   "name": "python",
   "nbconvert_exporter": "python",
   "pygments_lexer": "ipython3",
   "version": "3.6.8"
  },
  "toc": {
   "base_numbering": 1,
   "nav_menu": {},
   "number_sections": true,
   "sideBar": true,
   "skip_h1_title": false,
   "title_cell": "Table of Contents",
   "title_sidebar": "Contents",
   "toc_cell": false,
   "toc_position": {},
   "toc_section_display": true,
   "toc_window_display": false
  }
 },
 "nbformat": 4,
 "nbformat_minor": 2
}
